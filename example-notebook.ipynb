{
 "cells": [
  {
   "cell_type": "markdown",
   "metadata": {},
   "source": [
    "Nim examples\n",
    "============"
   ]
  },
  {
   "cell_type": "code",
   "execution_count": 19,
   "metadata": {
    "collapsed": false
   },
   "outputs": [
    {
     "name": "stderr",
     "output_type": "stream",
     "text": [
      "Hint: tmp2dzmbxjw [Processing]\r",
      "\r\n"
     ]
    },
    {
     "name": "stdout",
     "output_type": "stream",
     "text": [
      "hello world!\r\n"
     ]
    }
   ],
   "source": [
    "echo \"hello world!\""
   ]
  },
  {
   "cell_type": "markdown",
   "metadata": {},
   "source": [
    "Import\n",
    "------------\n",
    "If the host system as the correct package installed, you can use `import` like normal"
   ]
  },
  {
   "cell_type": "code",
   "execution_count": 2,
   "metadata": {
    "collapsed": false
   },
   "outputs": [
    {
     "name": "stderr",
     "output_type": "stream",
     "text": [
      "Hint: tmpb9kobr3x [Processing]\r",
      "\r\n"
     ]
    },
    {
     "name": "stdout",
     "output_type": "stream",
     "text": [
      "25.0\r\n"
     ]
    }
   ],
   "source": [
    "import math\n",
    "var x = 5.0\n",
    "echo x.pow(2.0)"
   ]
  },
  {
   "cell_type": "code",
   "execution_count": 3,
   "metadata": {
    "collapsed": false
   },
   "outputs": [
    {
     "name": "stderr",
     "output_type": "stream",
     "text": [
      "Hint: tmpt_e4fy4r [Processing]\r",
      "\r\n"
     ]
    },
    {
     "name": "stdout",
     "output_type": "stream",
     "text": [
      "@[(a: h, b: !), (a: e, b: k), (a: l, b: o), (a: l, b: o), (a: o, b: b), (a:  , b: e), (a: n, b: t), (a: o, b: o), (a: t, b: n), (a: e, b:  ), (a: b, b: o), (a: o, b: l), (a: o, b: l), (a: k, b: e), (a: !, b: h)]\r\n"
     ]
    }
   ],
   "source": [
    "import sequtils\n",
    "var s : seq[char] = toSeq(\"hello notebook!\".items)\n",
    "var z : seq[char] = toSeq(\"!koobeton olleh\".items)\n",
    "echo zip(s,z)"
   ]
  },
  {
   "cell_type": "markdown",
   "metadata": {},
   "source": [
    "## Importing local files\n",
    "To import local `.nim` files, it is currently necessary to fully qualify\n",
    "their path.  \n",
    "Suppose we have a file `localimp.nim` that defines a `proc localimport` ( remember the `*` to export )"
   ]
  },
  {
   "cell_type": "code",
   "execution_count": 12,
   "metadata": {
    "collapsed": false
   },
   "outputs": [
    {
     "name": "stderr",
     "output_type": "stream",
     "text": [
      "Hint: tmpnoprhe4w [Processing]\n",
      "tmpnoprhe4w.nim(1, 8) Error: cannot open 'localimp'\n",
      "[Nim kernel] nimc exited with code 1, the executable will not be executed"
     ]
    }
   ],
   "source": [
    "import localimp"
   ]
  },
  {
   "cell_type": "markdown",
   "metadata": {},
   "source": [
    "The code above does not work ( currently ) because this kernel executes the code in a temporary directory, so relative paths are skewed.  \n",
    "( And it looks like the kernel doesn't have access to the directory in which the notebook resides )  \n",
    "We can still use absolute paths to import our files:"
   ]
  },
  {
   "cell_type": "code",
   "execution_count": 21,
   "metadata": {
    "collapsed": false
   },
   "outputs": [
    {
     "name": "stderr",
     "output_type": "stream",
     "text": [
      "Hint: tmp_xxkd1_q [Processing]\r",
      "\r\n"
     ]
    },
    {
     "name": "stdout",
     "output_type": "stream",
     "text": [
      "this way works!\r\n"
     ]
    }
   ],
   "source": [
    "import import C:\\<full\\\\path\\\\to\\\\our\\\\file>\\localimp\n",
    "echo localimport()"
   ]
  },
  {
   "cell_type": "markdown",
   "metadata": {},
   "source": [
    "## Simple procs"
   ]
  },
  {
   "cell_type": "code",
   "execution_count": 4,
   "metadata": {
    "collapsed": false
   },
   "outputs": [
    {
     "name": "stderr",
     "output_type": "stream",
     "text": [
      "Hint: tmpllwkxtxx [Processing]\r",
      "\r\n"
     ]
    },
    {
     "name": "stdout",
     "output_type": "stream",
     "text": [
      "25\r\n"
     ]
    }
   ],
   "source": [
    "proc square(x:int):int =\n",
    "    result = x*x\n",
    "\n",
    "echo square(5)"
   ]
  },
  {
   "cell_type": "markdown",
   "metadata": {},
   "source": [
    "## Unicode identifiers"
   ]
  },
  {
   "cell_type": "code",
   "execution_count": 5,
   "metadata": {
    "collapsed": false
   },
   "outputs": [
    {
     "name": "stderr",
     "output_type": "stream",
     "text": [
      "Error: invalid module name: 'tmpiq__px3j'\n",
      "[Nim kernel] nimc exited with code 1, the executable will not be executed"
     ]
    }
   ],
   "source": [
    "proc `×` (a,b:int):int = \n",
    "    result = a*b\n",
    "echo ×(32, 12)"
   ]
  },
  {
   "cell_type": "markdown",
   "metadata": {},
   "source": [
    "## Json parsing"
   ]
  },
  {
   "cell_type": "code",
   "execution_count": 6,
   "metadata": {
    "collapsed": false
   },
   "outputs": [
    {
     "name": "stderr",
     "output_type": "stream",
     "text": [
      "Hint: tmpus0ocvpo [Processing]\n",
      "Hint: hashes [Processing]\n",
      "Hint: strutils [Processing]\n",
      "Hint: parseutils [Processing]\n",
      "Hint: math [Processing]\n",
      "Hint: etcpriv [Processing]\n",
      "Hint: tables [Processing]\n",
      "Hint: lexbase [Processing]\n",
      "Hint: streams [Processing]\n",
      "Hint: unicode [Processing]\n",
      "Hint: macros [Processing]\n"
     ]
    },
    {
     "name": "stdout",
     "output_type": "stream",
     "text": [
      "1\r\n",
      "[10,\"apples\"]\r\n",
      "[{\"name\":\"John\",\"age\":30},{\"name\":\"Susan\",\"age\":31}]\r\n"
     ]
    }
   ],
   "source": [
    "import json\n",
    " \n",
    "var data = parseJson(\"\"\"{ \"foo\": 1, \"bar\": [10, \"apples\"] }\"\"\")\n",
    "echo data[\"foo\"]\n",
    "echo data[\"bar\"]\n",
    " \n",
    "var js = %[%{\"name\": %\"John\", \"age\": %30}, %{\"name\": %\"Susan\", \"age\": %31}]\n",
    "echo js"
   ]
  },
  {
   "cell_type": "markdown",
   "metadata": {},
   "source": [
    "## Every blocks  is separate\n",
    "For now, every block is considered a separate `.nim` file.\n",
    "As an example, we can't access `data` from the block `Json parsing`"
   ]
  },
  {
   "cell_type": "code",
   "execution_count": 7,
   "metadata": {
    "collapsed": false
   },
   "outputs": [
    {
     "name": "stderr",
     "output_type": "stream",
     "text": [
      "Hint: tmpdn4x9y0v [Processing]\n",
      "tmpdn4x9y0v.nim(1, 6) Error: undeclared identifier: 'data'\n",
      "[Nim kernel] nimc exited with code 1, the executable will not be executed"
     ]
    }
   ],
   "source": [
    "echo data"
   ]
  },
  {
   "cell_type": "markdown",
   "metadata": {},
   "source": [
    "See? We got `undeclared identifier: 'data'`"
   ]
  }
 ],
 "metadata": {
  "kernelspec": {
   "display_name": "Nim",
   "language": "nim",
   "name": "nim_spec"
  },
  "language_info": {
   "file_extension": "nim",
   "mimetype": "text/plain",
   "name": "nim"
  }
 },
 "nbformat": 4,
 "nbformat_minor": 0
}
