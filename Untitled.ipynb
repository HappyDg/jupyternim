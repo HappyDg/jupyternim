{
 "cells": [
  {
   "cell_type": "code",
   "execution_count": 11,
   "metadata": {
    "collapsed": false
   },
   "outputs": [
    {
     "name": "stderr",
     "output_type": "stream",
     "text": [
      "Hint: tmpi5hminq7 [Processing]\r",
      "\r\n"
     ]
    },
    {
     "name": "stdout",
     "output_type": "stream",
     "text": [
      "25.0\r\n"
     ]
    }
   ],
   "source": [
    "import math\n",
    "var x = 5.0\n",
    "echo x.pow(2.0)"
   ]
  },
  {
   "cell_type": "code",
   "execution_count": 12,
   "metadata": {
    "collapsed": false
   },
   "outputs": [
    {
     "name": "stderr",
     "output_type": "stream",
     "text": [
      "Hint: tmpq91qlcyp [Processing]\n",
      "tmpq91qlcyp.nim(1, 6) Error: undeclared identifier: 'x'\n",
      "[Nim kernel] nimc exited with code 1, the executable will not be executed"
     ]
    }
   ],
   "source": [
    "echo x"
   ]
  },
  {
   "cell_type": "code",
   "execution_count": null,
   "metadata": {
    "collapsed": true
   },
   "outputs": [],
   "source": []
  }
 ],
 "metadata": {
  "kernelspec": {
   "display_name": "Nim",
   "language": "nim",
   "name": "nim_spec"
  },
  "language_info": {
   "file_extension": "nim",
   "mimetype": "text/plain",
   "name": "nim"
  }
 },
 "nbformat": 4,
 "nbformat_minor": 0
}
