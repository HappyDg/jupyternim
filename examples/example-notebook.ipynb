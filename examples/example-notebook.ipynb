{
 "cells": [
  {
   "cell_type": "markdown",
   "metadata": {},
   "source": [
    "Nim examples and notes on this kernel\n",
    "============"
   ]
  },
  {
   "cell_type": "code",
   "execution_count": 1,
   "metadata": {
    "collapsed": false
   },
   "outputs": [
    {
     "name": "stdout",
     "output_type": "stream",
     "text": [
      "Hint: used config file 'C:\\Dev\\Nim-devel\\config\\nim.cfg' [Conf]\r\n",
      "Hint: system [Processing]\r\n",
      "Hint: block1 [Processing]\r\n",
      "CC: INim_block1\r\n",
      "CC: stdlib_system\r\n",
      "Hint:  [Link]\r\n",
      "Hint: operation successful (10344 lines compiled; 1.711 sec total; 15.504MiB; Debug Build) [SuccessX]\r\n"
     ]
    },
    {
     "data": {
      "text/plain": [
       "hello world!\r\n"
      ]
     },
     "execution_count": 1,
     "metadata": {},
     "output_type": "execute_result"
    }
   ],
   "source": [
    "echo \"hello world!\""
   ]
  },
  {
   "cell_type": "markdown",
   "metadata": {},
   "source": [
    "Import\n",
    "------------\n",
    "If the host system as the correct package installed, you can use `import` like normal"
   ]
  },
  {
   "cell_type": "code",
   "execution_count": 2,
   "metadata": {
    "collapsed": false
   },
   "outputs": [
    {
     "name": "stdout",
     "output_type": "stream",
     "text": [
      "Hint: used config file 'C:\\Dev\\Nim-devel\\config\\nim.cfg' [Conf]\r\n",
      "Hint: system [Processing]\r\n",
      "Hint: block2 [Processing]\r\n",
      "Hint: math [Processing]\r\n",
      "CC: INim_block2\r\n",
      "CC: stdlib_math\r\n",
      "Hint:  [Link]\r\n",
      "Hint: operation successful (10922 lines compiled; 0.364 sec total; 16.004MiB; Debug Build) [SuccessX]\r\n"
     ]
    },
    {
     "data": {
      "text/plain": [
       "25.0\r\n"
      ]
     },
     "execution_count": 2,
     "metadata": {},
     "output_type": "execute_result"
    }
   ],
   "source": [
    "import math\n",
    "var x = 5.0\n",
    "echo x.pow(2.0)"
   ]
  },
  {
   "cell_type": "code",
   "execution_count": 3,
   "metadata": {
    "collapsed": false
   },
   "outputs": [
    {
     "name": "stdout",
     "output_type": "stream",
     "text": [
      "Hint: used config file 'C:\\Dev\\Nim-devel\\config\\nim.cfg' [Conf]\r\n",
      "Hint: system [Processing]\r\n",
      "Hint: block3 [Processing]\r\n",
      "Hint: sequtils [Processing]\r\n",
      "CC: INim_block3\r\n",
      "CC: stdlib_system\r\n",
      "CC: stdlib_sequtils\r\n",
      "Hint:  [Link]\r\n",
      "Hint: operation successful (11283 lines compiled; 1.764 sec total; 16.004MiB; Debug Build) [SuccessX]\r\n"
     ]
    },
    {
     "data": {
      "text/plain": [
       "@[(a: h, b: !), (a: e, b: k), (a: l, b: o), (a: l, b: o), (a: o, b: b), (a:  , b: e), (a: n, b: t), (a: o, b: o), (a: t, b: n), (a: e, b:  ), (a: b, b: o), (a: o, b: l), (a: o, b: l), (a: k, b: e), (a: !, b: h)]\r\n"
      ]
     },
     "execution_count": 3,
     "metadata": {},
     "output_type": "execute_result"
    }
   ],
   "source": [
    "import sequtils\n",
    "var s : seq[char] = toSeq(\"hello notebook!\".items)\n",
    "var z : seq[char] = toSeq(\"!koobeton olleh\".items)\n",
    "echo zip(s,z)"
   ]
  },
  {
   "cell_type": "markdown",
   "metadata": {},
   "source": [
    "## How to show the tempfile name\n",
    "Show tempfile name for this cell which happens to be the module name and therefor has a limited charset\n"
   ]
  },
  {
   "cell_type": "code",
   "execution_count": 6,
   "metadata": {
    "collapsed": false
   },
   "outputs": [
    {
     "name": "stdout",
     "output_type": "stream",
     "text": [
      "Hint: used config file 'C:\\Dev\\Nim-devel\\config\\nim.cfg' [Conf]\r\n",
      "Hint: system [Processing]\r\n",
      "Hint: block6 [Processing]\r\n",
      "CC: INim_block6\r\n",
      "Hint:  [Link]\r\n",
      "Hint: operation successful (10346 lines compiled; 0.450 sec total; 15.504MiB; Debug Build) [SuccessX]\r\n"
     ]
    },
    {
     "data": {
      "text/plain": [
       "Module tempfile: 'block6.nim'\r\n"
      ]
     },
     "execution_count": 6,
     "metadata": {},
     "output_type": "execute_result"
    }
   ],
   "source": [
    "template FILE: string = instantiationInfo().filename\n",
    "\n",
    "echo \"Module tempfile: '\" & FILE() & \"'\""
   ]
  },
  {
   "cell_type": "markdown",
   "metadata": {},
   "source": [
    "## Every block  is separate\n",
    "For now, every block is considered a separate `.nim` file.\n",
    "As an example, we can't access `x` from block 2"
   ]
  },
  {
   "cell_type": "code",
   "execution_count": 7,
   "metadata": {
    "collapsed": false
   },
   "outputs": [
    {
     "name": "stderr",
     "output_type": "stream",
     "text": [
      "Hint: used config file 'C:\\Dev\\Nim-devel\\config\\nim.cfg' [Conf]\r\n",
      "Hint: system [Processing]\r\n",
      "Hint: block7 [Processing]\r\n",
      "block7.nim(1, 6) Error: undeclared identifier: 'x'\r\n"
     ]
    }
   ],
   "source": [
    "echo x"
   ]
  },
  {
   "cell_type": "markdown",
   "metadata": {},
   "source": [
    "See? We got `undeclared identifier: 'x'`"
   ]
  },
  {
   "cell_type": "markdown",
   "metadata": {},
   "source": [
    "## Simple procs"
   ]
  },
  {
   "cell_type": "code",
   "execution_count": 8,
   "metadata": {
    "collapsed": false
   },
   "outputs": [
    {
     "name": "stdout",
     "output_type": "stream",
     "text": [
      "Hint: used config file 'C:\\Dev\\Nim-devel\\config\\nim.cfg' [Conf]\r\n",
      "Hint: system [Processing]\r\n",
      "Hint: block8 [Processing]\r\n",
      "CC: INim_block8\r\n",
      "Hint:  [Link]\r\n",
      "Hint: operation successful (10347 lines compiled; 0.433 sec total; 15.504MiB; Debug Build) [SuccessX]\r\n"
     ]
    },
    {
     "data": {
      "text/plain": [
       "25\r\n"
      ]
     },
     "execution_count": 8,
     "metadata": {},
     "output_type": "execute_result"
    }
   ],
   "source": [
    "proc square(x:int):int =\n",
    "    result = x*x\n",
    "\n",
    "echo square(5)"
   ]
  },
  {
   "cell_type": "markdown",
   "metadata": {},
   "source": [
    "## Unicode identifiers"
   ]
  },
  {
   "cell_type": "code",
   "execution_count": 9,
   "metadata": {
    "collapsed": false
   },
   "outputs": [
    {
     "name": "stdout",
     "output_type": "stream",
     "text": [
      "Hint: used config file 'C:\\Dev\\Nim-devel\\config\\nim.cfg' [Conf]\r\n",
      "Hint: system [Processing]\r\n",
      "Hint: block9 [Processing]\r\n",
      "CC: INim_block9\r\n",
      "Hint:  [Link]\r\n",
      "Hint: operation successful (10346 lines compiled; 0.476 sec total; 15.504MiB; Debug Build) [SuccessX]\r\n"
     ]
    },
    {
     "data": {
      "text/plain": [
       "384\r\n"
      ]
     },
     "execution_count": 9,
     "metadata": {},
     "output_type": "execute_result"
    }
   ],
   "source": [
    "proc `×` (a,b:int):int = \n",
    "    result = a*b\n",
    "echo ×(32, 12)"
   ]
  },
  {
   "cell_type": "markdown",
   "metadata": {},
   "source": [
    "## Json parsing"
   ]
  },
  {
   "cell_type": "code",
   "execution_count": 10,
   "metadata": {
    "collapsed": false
   },
   "outputs": [
    {
     "name": "stdout",
     "output_type": "stream",
     "text": [
      "Hint: used config file 'C:\\Dev\\Nim-devel\\config\\nim.cfg' [Conf]\r\n",
      "Hint: system [Processing]\r\n",
      "Hint: block10 [Processing]\r\n",
      "Hint: json [Processing]\r\n",
      "Hint: hashes [Processing]\r\n",
      "Hint: strutils [Processing]\r\n",
      "Hint: parseutils [Processing]\r\n",
      "Hint: math [Processing]\r\n",
      "Hint: algorithm [Processing]\r\n",
      "Hint: etcpriv [Processing]\r\n",
      "Hint: tables [Processing]\r\n",
      "Hint: lexbase [Processing]\r\n",
      "Hint: streams [Processing]\r\n",
      "Hint: unicode [Processing]\r\n",
      "Hint: macros [Processing]\r\n",
      "CC: INim_block10\r\n",
      "CC: stdlib_system\r\n",
      "CC: stdlib_json\r\n",
      "CC: stdlib_hashes\r\n",
      "CC: stdlib_tables\r\n",
      "CC: stdlib_strutils\r\n",
      "CC: stdlib_lexbase\r\n",
      "CC: stdlib_streams\r\n",
      "CC: stdlib_unicode\r\n",
      "CC: stdlib_macros\r\n",
      "CC: stdlib_etcpriv\r\n",
      "CC: stdlib_parseutils\r\n",
      "CC: stdlib_math\r\n",
      "CC: stdlib_algorithm\r\n",
      "Hint:  [Link]\r\n",
      "Hint: operation successful (20959 lines compiled; 2.275 sec total; 37.504MiB; Debug Build) [SuccessX]\r\n"
     ]
    },
    {
     "data": {
      "text/plain": [
       "1\r\n",
       "[10,\"apples\"]\r\n",
       "[{\"name\":\"John\",\"age\":30},{\"name\":\"Susan\",\"age\":31}]\r\n"
      ]
     },
     "execution_count": 10,
     "metadata": {},
     "output_type": "execute_result"
    }
   ],
   "source": [
    "import json\n",
    " \n",
    "var data = parseJson(\"\"\"{ \"foo\": 1, \"bar\": [10, \"apples\"] }\"\"\")\n",
    "echo data[\"foo\"]\n",
    "echo data[\"bar\"]\n",
    " \n",
    "var js = %[%{\"name\": %\"John\", \"age\": %30}, %{\"name\": %\"Susan\", \"age\": %31}]\n",
    "echo js"
   ]
  },
  {
   "cell_type": "markdown",
   "metadata": {
    "collapsed": true
   },
   "source": [
    "Plotting\n",
    "========\n",
    "\n",
    "For, a single plot for block is available."
   ]
  },
  {
   "cell_type": "code",
   "execution_count": 14,
   "metadata": {
    "collapsed": false
   },
   "outputs": [
    {
     "name": "stdout",
     "output_type": "stream",
     "text": [
      "Hint: used config file 'C:\\Dev\\Nim-devel\\config\\nim.cfg' [Conf]\r\n",
      "Hint: system [Processing]\r\n",
      "Hint: block14 [Processing]\r\n",
      "Hint: graph [Processing]\r\n",
      "Hint: nimage [Processing]\r\n",
      "Hint: image [Processing]\r\n",
      "Hint: strfmt [Processing]\r\n",
      "Hint: macros [Processing]\r\n",
      "Hint: strutils [Processing]\r\n",
      "Hint: parseutils [Processing]\r\n",
      "Hint: math [Processing]\r\n",
      "Hint: algorithm [Processing]\r\n",
      "Hint: unicode [Processing]\r\n",
      "Hint: streams [Processing]\r\n",
      "Hint: unsigned [Processing]\r\n",
      "Hint: png [Processing]\r\n",
      "Hint: loadpng [Processing]\r\n",
      "Hint: bytestream [Processing]\r\n",
      "Hint: dbgutil [Processing]\r\n",
      "Hint: filter [Processing]\r\n",
      "Hint: streamhelper [Processing]\r\n",
      "Hint: zutil [Processing]\r\n",
      "Hint: zlib [Processing]\r\n",
      "Hint: savepng [Processing]\r\n",
      "Hint: sequtils [Processing]\r\n",
      "Hint: os [Processing]\r\n",
      "Hint: times [Processing]\r\n",
      "Hint: winlean [Processing]\r\n",
      "Hint: dynlib [Processing]\r\n",
      "CC: INim_block14\r\n",
      "Hint:  [Link]\r\n",
      "Hint: operation successful (27313 lines compiled; 0.815 sec total; 45.004MiB; Debug Build) [SuccessX]\r\n"
     ]
    },
    {
     "data": {
      "image/png": "[encoded data removed]"
     },
     "metadata": {
      "image/png": {
       "height": 480,
       "width": 640
      }
     },
     "output_type": "display_data"
    },
    {
     "data": {
      "text/plain": []
     },
     "execution_count": 14,
     "metadata": {},
     "output_type": "execute_result"
    }
   ],
   "source": [
    "#>inlineplot 640 480\n",
    "import graph,math,sequtils\n",
    "\n",
    "proc sin (x:openarray[float]):seq[float] =\n",
    "  result = map(x) do (x:float)->float : \n",
    "    sin(x)\n",
    "\n",
    "let xx = linspace(0.0,2*Pi,0.01)\n",
    "\n",
    "plot(xx,sin(xx))"
   ]
  },
  {
   "cell_type": "code",
   "execution_count": null,
   "metadata": {
    "collapsed": true
   },
   "outputs": [],
   "source": []
  }
 ],
 "metadata": {
  "kernelspec": {
   "display_name": "nim - pure",
   "language": "nim",
   "name": "nim-spec"
  },
  "language_info": {
   "codemirror_mode": "",
   "file_extension": ".nim",
   "mimetype": "text/x-nimrod",
   "name": "nim",
   "nbconvert_exporter": "",
   "pygments_lexer": "",
   "version": "0.1"
  }
 },
 "nbformat": 4,
 "nbformat_minor": 0
}
