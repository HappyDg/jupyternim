{
 "cells": [
  {
   "cell_type": "markdown",
   "metadata": {},
   "source": [
    "Nim examples and notes on this kernel\n",
    "============"
   ]
  },
  {
   "cell_type": "code",
   "execution_count": 1,
   "metadata": {
    "collapsed": false
   },
   "outputs": [
    {
     "name": "stdout",
     "output_type": "stream",
     "text": []
    },
    {
     "data": {
      "text/plain": [
       "hello world!\r\n"
      ]
     },
     "execution_count": 1,
     "metadata": {},
     "output_type": "execute_result"
    }
   ],
   "source": [
    "echo \"hello world!\""
   ]
  },
  {
   "cell_type": "markdown",
   "metadata": {},
   "source": [
    "Import\n",
    "------------\n",
    "If the host system as the correct package installed, you can use `import` like normal"
   ]
  },
  {
   "cell_type": "code",
   "execution_count": 2,
   "metadata": {
    "collapsed": false
   },
   "outputs": [
    {
     "name": "stdout",
     "output_type": "stream",
     "text": []
    },
    {
     "data": {
      "text/plain": [
       "25.0\r\n"
      ]
     },
     "execution_count": 2,
     "metadata": {},
     "output_type": "execute_result"
    }
   ],
   "source": [
    "import math\n",
    "var x = 5.0\n",
    "echo x.pow(2.0)"
   ]
  },
  {
   "cell_type": "code",
   "execution_count": 3,
   "metadata": {
    "collapsed": false
   },
   "outputs": [
    {
     "name": "stdout",
     "output_type": "stream",
     "text": []
    },
    {
     "data": {
      "text/plain": [
       "@[(a: h, b: !), (a: e, b: k), (a: l, b: o), (a: l, b: o), (a: o, b: b), (a:  , b: e), (a: n, b: t), (a: o, b: o), (a: t, b: n), (a: e, b:  ), (a: b, b: o), (a: o, b: l), (a: o, b: l), (a: k, b: e), (a: !, b: h)]\r\n"
      ]
     },
     "execution_count": 3,
     "metadata": {},
     "output_type": "execute_result"
    }
   ],
   "source": [
    "import sequtils\n",
    "var s : seq[char] = toSeq(\"hello notebook!\".items)\n",
    "var z : seq[char] = toSeq(\"!koobeton olleh\".items)\n",
    "echo zip(s,z)"
   ]
  },
  {
   "cell_type": "markdown",
   "metadata": {},
   "source": [
    "## How to show the tempfile name\n",
    "Show tempfile name for this cell which happens to be the module name and therefor has a limited charset\n"
   ]
  },
  {
   "cell_type": "code",
   "execution_count": 4,
   "metadata": {
    "collapsed": false
   },
   "outputs": [
    {
     "name": "stdout",
     "output_type": "stream",
     "text": []
    },
    {
     "data": {
      "text/plain": [
       "Module tempfile: 'block4.nim'\r\n"
      ]
     },
     "execution_count": 4,
     "metadata": {},
     "output_type": "execute_result"
    }
   ],
   "source": [
    "template FILE: string = instantiationInfo().filename\n",
    "\n",
    "echo \"Module tempfile: '\" & FILE() & \"'\""
   ]
  },
  {
   "cell_type": "markdown",
   "metadata": {},
   "source": [
    "## Every block  is separate, kind of\n",
    "For now, every block is considered a separate `.nim` file.\n",
    "As an example, we can't access `x` from block 2"
   ]
  },
  {
   "cell_type": "code",
   "execution_count": 5,
   "metadata": {
    "collapsed": false
   },
   "outputs": [
    {
     "name": "stderr",
     "output_type": "stream",
     "text": [
      "block5.nim(3, 6) Error: undeclared identifier: 'x'\r\n"
     ]
    }
   ],
   "source": [
    "echo x"
   ]
  },
  {
   "cell_type": "markdown",
   "metadata": {},
   "source": [
    "See? We got `undeclared identifier: 'x'`  \n",
    "But if we export it:"
   ]
  },
  {
   "cell_type": "code",
   "execution_count": 6,
   "metadata": {
    "collapsed": false
   },
   "outputs": [
    {
     "name": "stdout",
     "output_type": "stream",
     "text": []
    },
    {
     "data": {
      "text/plain": []
     },
     "execution_count": 6,
     "metadata": {},
     "output_type": "execute_result"
    }
   ],
   "source": [
    "var x* = 12"
   ]
  },
  {
   "cell_type": "markdown",
   "metadata": {},
   "source": [
    "Then we can use it in subsequent blocks:"
   ]
  },
  {
   "cell_type": "code",
   "execution_count": 7,
   "metadata": {
    "collapsed": false
   },
   "outputs": [
    {
     "name": "stdout",
     "output_type": "stream",
     "text": []
    },
    {
     "data": {
      "text/plain": [
       "12\r\n"
      ]
     },
     "execution_count": 7,
     "metadata": {},
     "output_type": "execute_result"
    }
   ],
   "source": [
    "echo x"
   ]
  },
  {
   "cell_type": "markdown",
   "metadata": {},
   "source": [
    "## Simple procs"
   ]
  },
  {
   "cell_type": "code",
   "execution_count": 8,
   "metadata": {
    "collapsed": false
   },
   "outputs": [
    {
     "name": "stdout",
     "output_type": "stream",
     "text": []
    },
    {
     "data": {
      "text/plain": [
       "25\r\n"
      ]
     },
     "execution_count": 8,
     "metadata": {},
     "output_type": "execute_result"
    }
   ],
   "source": [
    "proc square(x:int):int =\n",
    "    result = x*x\n",
    "\n",
    "echo square(5)"
   ]
  },
  {
   "cell_type": "markdown",
   "metadata": {},
   "source": [
    "## Unicode identifiers"
   ]
  },
  {
   "cell_type": "code",
   "execution_count": 9,
   "metadata": {
    "collapsed": false
   },
   "outputs": [
    {
     "name": "stdout",
     "output_type": "stream",
     "text": []
    },
    {
     "data": {
      "text/plain": [
       "384\r\n"
      ]
     },
     "execution_count": 9,
     "metadata": {},
     "output_type": "execute_result"
    }
   ],
   "source": [
    "proc `×` (a,b:int):int = \n",
    "    result = a*b\n",
    "echo ×(32, 12)"
   ]
  },
  {
   "cell_type": "markdown",
   "metadata": {},
   "source": [
    "## Json parsing"
   ]
  },
  {
   "cell_type": "code",
   "execution_count": 10,
   "metadata": {
    "collapsed": false
   },
   "outputs": [
    {
     "name": "stdout",
     "output_type": "stream",
     "text": []
    },
    {
     "data": {
      "text/plain": [
       "1\r\n",
       "[10,\"apples\"]\r\n",
       "[{\"name\":\"John\",\"age\":30},{\"name\":\"Susan\",\"age\":31}]\r\n"
      ]
     },
     "execution_count": 10,
     "metadata": {},
     "output_type": "execute_result"
    }
   ],
   "source": [
    "import json\n",
    " \n",
    "var data = parseJson(\"\"\"{ \"foo\": 1, \"bar\": [10, \"apples\"] }\"\"\")\n",
    "echo data[\"foo\"]\n",
    "echo data[\"bar\"]\n",
    " \n",
    "var js = %[%{\"name\": %\"John\", \"age\": %30}, %{\"name\": %\"Susan\", \"age\": %31}]\n",
    "echo js"
   ]
  },
  {
   "cell_type": "markdown",
   "metadata": {
    "collapsed": true
   },
   "source": [
    "Plotting\n",
    "========\n",
    "\n",
    "For, a single plot for block is available."
   ]
  },
  {
   "cell_type": "code",
   "execution_count": 11,
   "metadata": {
    "collapsed": false,
    "scrolled": false
   },
   "outputs": [
    {
     "name": "stdout",
     "output_type": "stream",
     "text": []
    },
    {
     "data": {
      "image/png": "[encoded data removed]"
     },
     "metadata": {
      "image/png": {
       "height": 480,
       "width": 640
      }
     },
     "output_type": "display_data"
    },
    {
     "data": {
      "text/plain": [
       "Loaded dynamic library: 'python35.dll'\r\n",
       "0\r\n"
      ]
     },
     "execution_count": 11,
     "metadata": {},
     "output_type": "execute_result"
    }
   ],
   "source": [
    "#>inlineplot\n",
    "import math,sequtils\n",
    "\n",
    "iterator linsp*[T](fm,to,step:T):T =\n",
    "    if fm<to:\n",
    "      var res: T = T(fm)\n",
    "      while res<=to:\n",
    "        yield res\n",
    "        res+=step\n",
    "    elif fm>to:\n",
    "      var res: T = T(fm)\n",
    "      while res>=to:\n",
    "        yield res\n",
    "        res-=step\n",
    "    else:\n",
    "      yield fm\n",
    "    \n",
    "\n",
    "proc linspace* [T](fm,to,step:T):seq[T] = toSeq(linsp(fm, to, step)) # Result and step should be same type, not all 4\n",
    "\n",
    "\n",
    "proc sin (x:openarray[float]):seq[float] =\n",
    "  result = map(x) do (x:float)->float : \n",
    "    sin(x)\n",
    "\n",
    "let xx = linspace(0.0,2*Pi,0.01)\n",
    "\n",
    "show:\n",
    "    plot(xx,sin(xx))"
   ]
  }
 ],
 "metadata": {
  "anaconda-cloud": {},
  "kernelspec": {
   "display_name": "Nim",
   "language": "nim",
   "name": "nim-spec"
  },
  "language_info": {
   "codemirror_mode": "nim",
   "file_extension": ".nim",
   "mimetype": "text/x-nimrod",
   "name": "nim",
   "nbconvert_exporter": "",
   "pygments_lexer": "",
   "version": "0.2"
  }
 },
 "nbformat": 4,
 "nbformat_minor": 0
}
